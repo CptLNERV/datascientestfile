{
 "cells": [
  {
   "cell_type": "code",
   "execution_count": 4,
   "metadata": {},
   "outputs": [
    {
     "name": "stderr",
     "output_type": "stream",
     "text": [
      "your 131072x1 screen size is bogus. expect trouble\n",
      "23/12/30 16:14:57 WARN Utils: Your hostname, JayWin10Pc resolves to a loopback address: 127.0.1.1; using 172.17.52.247 instead (on interface eth0)\n",
      "23/12/30 16:14:57 WARN Utils: Set SPARK_LOCAL_IP if you need to bind to another address\n",
      "Setting default log level to \"WARN\".\n",
      "To adjust logging level use sc.setLogLevel(newLevel). For SparkR, use setLogLevel(newLevel).\n",
      "23/12/30 16:14:59 WARN NativeCodeLoader: Unable to load native-hadoop library for your platform... using builtin-java classes where applicable\n",
      "23/12/30 16:15:00 WARN Utils: Service 'SparkUI' could not bind on port 4040. Attempting port 4041.\n"
     ]
    }
   ],
   "source": [
    "# Import de SparkContext du module pyspark\n",
    "from pyspark import SparkContext\n",
    "\n",
    "# Défintion d'un SparkContext\n",
    "sc = SparkContext.getOrCreate()\n",
    "# 打印 SparkContext 的一些信息\n",
    "print(\"SparkContext version:\", sc.version)\n",
    "print(\"SparkContext master:\", sc.master)"
   ]
  },
  {
   "cell_type": "code",
   "execution_count": 13,
   "metadata": {},
   "outputs": [
    {
     "name": "stdout",
     "output_type": "stream",
     "text": [
      "/home/jayl/datascientestfile/spark\n",
      "/home/jayl/datascientestfile/spark/data/miserables_full.txt\n"
     ]
    }
   ],
   "source": [
    "import os\n",
    "pwd = os.getcwd()\n",
    "print(pwd)\n",
    "print(\"{}/data/miserables_full.txt\".format(pwd))"
   ]
  },
  {
   "cell_type": "code",
   "execution_count": 20,
   "metadata": {},
   "outputs": [
    {
     "data": {
      "text/plain": [
       "['The Project Gutenberg eBook of Les misérables Tome I: Fantine',\n",
       " '    ',\n",
       " 'This ebook is for the use of anyone anywhere in the United States and',\n",
       " 'most other parts of the world at no cost and with almost no restrictions',\n",
       " 'whatsoever. You may copy it, give it away or re-use it under the terms',\n",
       " 'of the Project Gutenberg License included with this ebook or online',\n",
       " 'at www.gutenberg.org. If you are not located in the United States,',\n",
       " 'you will have to check the laws of the country where you are located',\n",
       " 'before using this eBook.',\n",
       " '',\n",
       " 'Title: Les misérables Tome I: Fantine',\n",
       " '',\n",
       " '',\n",
       " 'Author: Victor Hugo',\n",
       " '',\n",
       " 'Release date: January 10, 2006 [eBook #17489]',\n",
       " '                Most recently updated: October 30, 2023',\n",
       " '',\n",
       " 'Language: French',\n",
       " '']"
      ]
     },
     "execution_count": 20,
     "metadata": {},
     "output_type": "execute_result"
    }
   ],
   "source": [
    "# rdd named miserables\n",
    "miserables = sc.textFile(\"{}/data/miserables_full.txt\".format(pwd))\n",
    "miserables.take(20)\n"
   ]
  },
  {
   "cell_type": "code",
   "execution_count": 30,
   "metadata": {},
   "outputs": [
    {
     "data": {
      "text/plain": [
       "['the project gutenberg ebook of les misérables tome i: fantine',\n",
       " '    ',\n",
       " 'this ebook is for the use of anyone anywhere in the united states and',\n",
       " 'most other parts of the world at no cost and with almost no restrictions',\n",
       " 'whatsoever  you may copy it  give it away or re use it under the terms']"
      ]
     },
     "execution_count": 30,
     "metadata": {},
     "output_type": "execute_result"
    }
   ],
   "source": [
    "miserables_clean = miserables.map(lambda x: x.lower())\n",
    "miserables_clean = miserables_clean.map(lambda x : x.replace(\".\",\" \").replace(\",\",\" \").replace(\"-\",\" \").replace(\"'\",\" \"))\n",
    "\n",
    "miserables_clean.take(5)\n"
   ]
  },
  {
   "cell_type": "code",
   "execution_count": 37,
   "metadata": {},
   "outputs": [
    {
     "data": {
      "text/plain": [
       "['the',\n",
       " 'project',\n",
       " 'gutenberg',\n",
       " 'ebook',\n",
       " 'of',\n",
       " 'les',\n",
       " 'misérables',\n",
       " 'tome',\n",
       " 'i:',\n",
       " 'fantine',\n",
       " 'this',\n",
       " 'ebook',\n",
       " 'is',\n",
       " 'for',\n",
       " 'the',\n",
       " 'use',\n",
       " 'of',\n",
       " 'anyone',\n",
       " 'anywhere',\n",
       " 'in']"
      ]
     },
     "execution_count": 37,
     "metadata": {},
     "output_type": "execute_result"
    }
   ],
   "source": [
    "miserables_flat  = miserables_clean.flatMap(lambda x:x.split(\" \"))\n",
    "\n",
    "miserables_flat.take(20)"
   ]
  },
  {
   "cell_type": "code",
   "execution_count": 39,
   "metadata": {},
   "outputs": [
    {
     "data": {
      "text/plain": [
       "[('project', 83),\n",
       " ('gutenberg', 34),\n",
       " ('ebook', 12),\n",
       " ('of', 122),\n",
       " ('les', 1516),\n",
       " ('tome', 5),\n",
       " ('i:', 4),\n",
       " ('fantine', 185),\n",
       " ('this', 45),\n",
       " ('is', 22)]"
      ]
     },
     "execution_count": 39,
     "metadata": {},
     "output_type": "execute_result"
    }
   ],
   "source": [
    "mots = miserables_flat.map(lambda x : (x,1)).reduceByKey(lambda x,y :x+y )\n",
    "mots.take(10)"
   ]
  },
  {
   "cell_type": "code",
   "execution_count": 54,
   "metadata": {},
   "outputs": [
    {
     "name": "stdout",
     "output_type": "stream",
     "text": [
      "[('de', 4469), ('il', 3161), ('la', 3024), ('et', 2943), ('le', 2534)]\n"
     ]
    }
   ],
   "source": [
    "# 1 转换成collection 对collection sort\n",
    "mots_sorted = sorted(mots.collect(),key = lambda x: x[1],reverse=1)\n",
    "# print(mots_sorted[:5])\n",
    "\n",
    "# 2 对rdd使用sortby 再转换成collection（可选）\n",
    "mots_sorted2 = mots.sortBy(lambda x:x[1],ascending=0)\n",
    "print(mots_sorted2.take(5))\n",
    "\n",
    "mots_sorted2 = mots_sorted2.collect()\n",
    "# mots_sorted2[:5]\n"
   ]
  },
  {
   "cell_type": "code",
   "execution_count": 66,
   "metadata": {},
   "outputs": [
    {
     "data": {
      "text/plain": [
       "[('', 22131), ('de', 4469), ('il', 3161), ('la', 3024), ('et', 2943)]"
      ]
     },
     "execution_count": 66,
     "metadata": {},
     "output_type": "execute_result"
    }
   ],
   "source": [
    "mots_sorted3 = sc.textFile(\"{}/data/miserables_full.txt\".format(pwd)) \\\n",
    "                .map(lambda x: x.lower().replace(\".\",\" \").replace(\",\",\" \").replace(\"-\",\" \").replace(\"'\",\" \"))\\\n",
    "                .flatMap(lambda x:x.split(\" \"))\\\n",
    "                .map(lambda x:(x,1))\\\n",
    "                .reduceByKey(lambda x,y: x+y)\\\n",
    "                .sortBy(lambda x:x[1],ascending=0)\n",
    "\n",
    "\n",
    "mots_sorted3.take(5)\n",
    "# 为什么结果里面会有空格？ 我可以加filter函数，但是我需要知道为什么？"
   ]
  },
  {
   "cell_type": "code",
   "execution_count": null,
   "metadata": {},
   "outputs": [],
   "source": [
    "sc.stop()"
   ]
  }
 ],
 "metadata": {
  "kernelspec": {
   "display_name": "Python 3",
   "language": "python",
   "name": "python3"
  },
  "language_info": {
   "codemirror_mode": {
    "name": "ipython",
    "version": 3
   },
   "file_extension": ".py",
   "mimetype": "text/x-python",
   "name": "python",
   "nbconvert_exporter": "python",
   "pygments_lexer": "ipython3",
   "version": "3.10.12"
  }
 },
 "nbformat": 4,
 "nbformat_minor": 2
}
