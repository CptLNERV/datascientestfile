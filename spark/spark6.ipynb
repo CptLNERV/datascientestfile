{
 "cells": [
  {
   "cell_type": "code",
   "execution_count": 19,
   "metadata": {},
   "outputs": [
    {
     "data": {
      "text/html": [
       "\n",
       "            <div>\n",
       "                <p><b>SparkSession - in-memory</b></p>\n",
       "                \n",
       "        <div>\n",
       "            <p><b>SparkContext</b></p>\n",
       "\n",
       "            <p><a href=\"http://172.17.52.247:4040\">Spark UI</a></p>\n",
       "\n",
       "            <dl>\n",
       "              <dt>Version</dt>\n",
       "                <dd><code>v3.5.0</code></dd>\n",
       "              <dt>Master</dt>\n",
       "                <dd><code>local[*]</code></dd>\n",
       "              <dt>AppName</dt>\n",
       "                <dd><code>ML Tuning</code></dd>\n",
       "            </dl>\n",
       "        </div>\n",
       "        \n",
       "            </div>\n",
       "        "
      ],
      "text/plain": [
       "<pyspark.sql.session.SparkSession at 0x7f6b681b7010>"
      ]
     },
     "execution_count": 19,
     "metadata": {},
     "output_type": "execute_result"
    }
   ],
   "source": [
    "from pyspark.sql import SparkSession\n",
    "\n",
    "spark = SparkSession.builder.appName(\"ML Tuning\").getOrCreate()\n",
    "\n",
    "spark"
   ]
  },
  {
   "cell_type": "code",
   "execution_count": 20,
   "metadata": {},
   "outputs": [
    {
     "name": "stdout",
     "output_type": "stream",
     "text": [
      "/home/jayl/datascientestfile/spark\n",
      "/home/jayl/datascientestfile/spark/data/miserables_full.txt\n"
     ]
    }
   ],
   "source": [
    "import os\n",
    "pwd = os.getcwd()\n",
    "print(pwd)\n",
    "print(\"{}/data/miserables_full.txt\".format(pwd))"
   ]
  },
  {
   "cell_type": "code",
   "execution_count": 21,
   "metadata": {},
   "outputs": [
    {
     "name": "stdout",
     "output_type": "stream",
     "text": [
      "+----+--------+--------+--------+--------+---------+---------+---------+---------+--------+--------+-------+--------+--------+----------+----------+---------+---------+---------+---------+---------+---------+---------+---------+---------+--------+----------+----------+---------+----------+---------+---------+---------+---------+---------+--------+--------+----------+----------+----------+---------+---------+---------+---------+---------+---------+---------+----------+---------+---------+---------+---------+---------+--------+---------+---------+----------+---------+----------+---------+---------+---------+---------+---------+----------+----------+---------+---------+--------+---------+---------+----------+---------+---------+---------+---------+---------+---------+---------+---------+---------+--------+----------+---------+---------+---------+---------+----------+--------+---------+--------+\n",
      "| _c0|     _c1|     _c2|     _c3|     _c4|      _c5|      _c6|      _c7|      _c8|     _c9|    _c10|   _c11|    _c12|    _c13|      _c14|      _c15|     _c16|     _c17|     _c18|     _c19|     _c20|     _c21|     _c22|     _c23|     _c24|    _c25|      _c26|      _c27|     _c28|      _c29|     _c30|     _c31|     _c32|     _c33|     _c34|    _c35|    _c36|      _c37|      _c38|      _c39|     _c40|     _c41|     _c42|     _c43|     _c44|     _c45|     _c46|      _c47|     _c48|     _c49|     _c50|     _c51|     _c52|    _c53|     _c54|     _c55|      _c56|     _c57|      _c58|     _c59|     _c60|     _c61|     _c62|     _c63|      _c64|      _c65|     _c66|     _c67|    _c68|     _c69|     _c70|      _c71|     _c72|     _c73|     _c74|     _c75|     _c76|     _c77|     _c78|     _c79|     _c80|    _c81|      _c82|     _c83|     _c84|     _c85|     _c86|      _c87|    _c88|     _c89|    _c90|\n",
      "+----+--------+--------+--------+--------+---------+---------+---------+---------+--------+--------+-------+--------+--------+----------+----------+---------+---------+---------+---------+---------+---------+---------+---------+---------+--------+----------+----------+---------+----------+---------+---------+---------+---------+---------+--------+--------+----------+----------+----------+---------+---------+---------+---------+---------+---------+---------+----------+---------+---------+---------+---------+---------+--------+---------+---------+----------+---------+----------+---------+---------+---------+---------+---------+----------+----------+---------+---------+--------+---------+---------+----------+---------+---------+---------+---------+---------+---------+---------+---------+---------+--------+----------+---------+---------+---------+---------+----------+--------+---------+--------+\n",
      "|2001|49.94357|21.47114|73.07750| 8.74861|-17.40628|-13.09905|-25.01202|-12.23257| 7.83089|-2.46783|3.32136|-2.31521|10.20556| 611.10913| 951.08960|698.11428|408.98485|383.70912|326.51512|238.11327|251.42414|187.17351|100.42652|179.19498|-8.41558|-317.87038|  95.86266| 48.10259| -95.66303|-18.06215|  1.96984| 34.42438| 11.72670|  1.36790| 7.79444|-0.36994|-133.67852| -83.26165| -37.29765| 73.04667|-37.36684| -3.13853|-24.21531|-13.23066| 15.93809|-18.60478|  82.15479|240.57980|-10.29407| 31.58431|-25.38187| -3.90772|13.29258| 41.55060| -7.26272| -21.00863|105.50848|  64.29856| 26.08481|-44.59110| -8.30657|  7.93706|-10.73660| -95.44766| -82.03307|-35.59194|  4.69525|70.95626| 28.09139|  6.02015| -37.13767|-41.12450| -8.40816|  7.19877| -8.60176| -5.90857|-12.32437| 14.68734|-54.32125| 40.14786|13.01620| -54.40548| 58.99367| 15.37344|  1.11144|-23.08793|  68.40795|-1.82223|-27.46348| 2.26327|\n",
      "|2001|48.73215|18.42930|70.32679|12.94636|-10.32437|-24.83777|  8.76630| -0.92019|18.76548| 4.59210|2.21920| 0.34006|44.38997|2056.93836| 605.40696|457.41175|777.15347|415.64880|746.47775|366.45320|317.82946|273.07917|141.75921|317.35269|19.48271| -65.25496| 162.75145|135.00765| -96.28436|-86.87955| 17.38087| 45.90742| 32.49908|-32.85429|45.10830|26.84939|-302.57328| -41.71932|-138.85034|202.18689|-33.44277|195.04749|-16.93235| -1.09168|-25.38061|-12.19034|-125.94783|121.74212|136.67075| 41.18157| 28.55107|  1.52298|70.99515|-43.63073|-42.55014| 129.82848| 79.95420| -87.14554|-45.75446|-65.82100|-43.90031|-19.45705| 12.59163|-407.64130|  42.91189| 12.15850|-88.37882|42.25246| 46.49209|-30.17747|  45.98495|130.47892| 13.88281| -4.00055| 17.85965|-18.32138|-87.99109| 14.37524|-22.70119|-58.81266| 5.66812| -19.68073| 33.04964| 42.87836| -9.90378|-32.22788|  70.49388|12.04941| 58.43453|26.92061|\n",
      "|2001|50.95714|31.85602|55.81851|13.41693| -6.57898|-18.54940| -3.27872| -2.35035|16.07017| 1.39518|2.73553| 0.82804| 7.46586| 699.54544|1016.00954|594.06748|355.73663|507.39931|387.69910|287.15347|112.37152|161.68928|144.14353|199.29693|-4.24359|-297.00587|-148.36392| -7.94726| -18.71630| 12.77542|-25.37725|  9.71410|  0.13843| 26.79723| 6.30760|28.70107| -74.89005|-289.19553|-166.26089| 13.09302|  5.89085|  6.89034|-10.97160|  1.67565| 11.43523| -7.27994| 133.08169|141.86758|-56.99356| 98.15952| 18.50939| 16.97216|24.26629|-10.50788| -8.68412|  54.75759|194.74034|   7.95966|-18.22685|  0.06463| -2.63069| 26.02561|  1.75729|-262.36917|-233.60089| -2.50502|-12.14279|81.37617|  2.07554| -1.82381| 183.65292| 22.64797|-39.98887| 43.37381|-31.56737| -4.88840|-36.53213|-23.94662|-84.19275| 66.00518| 3.03800|  26.05866|-50.92779| 10.93792| -0.07568| 43.20130|-115.00698|-0.05859| 39.67068|-0.66345|\n",
      "|2001|48.24750|-1.89837|36.29772| 2.58776|  0.97170|-26.21683|  5.05097|-10.34124| 3.55005|-6.36304|6.63016|-3.35142|37.64085|2174.08189| 697.43346|459.24587|742.78961|229.30783|387.89697|249.06662|245.89870|176.20527| 98.82222|150.97286|78.49057| -62.00282|  43.49659|-96.42719|-108.96608| 14.22854| 14.54178|-23.55608|-39.36953|-43.59209|20.83714|35.63919|-181.34947| -93.66614| -90.55616| -0.01744| 23.22717|-25.48348|-25.88070| 12.59198|-24.85116| -7.20736| 778.02248| 61.15940| 23.37585|-97.64925|  4.56917|-37.32280| 4.15159| 12.24315| 35.02697|-178.89573| 82.46573| -20.49425|101.78577|-19.77808|-21.52657|  3.36303|-11.63176|  51.55411| -50.57576|-28.14755|-83.15795|-7.35260|-22.11505|  1.18279|-122.70467|150.57360| 24.37468| 41.19821|-37.04318|-28.72986|162.19614| 22.18309| -8.63509| 85.23416|34.57337|-171.70734|-16.96705|-46.67617|-12.51516| 82.58061| -72.08993| 9.90558|199.62971|18.85382|\n",
      "|2001|50.97020|42.20998|67.09964| 8.46791|-15.85279|-16.81409|-12.48207| -9.37636|12.63699| 0.93609|1.60923| 2.19223|47.32082| 894.28471| 809.86615|318.78559|435.04497|341.61467|334.30734|322.99589|190.61921|235.84715| 96.89517|210.58870| 5.60463|-199.63958| 204.85812|-77.17695| -65.79741| -6.95097|-12.15262| -3.85410| 20.68990|-20.30480|37.15045|11.20673|-124.09519|-295.98542| -33.31169| 28.68782|-32.73982|-26.60955|-69.07501|  5.73467|-15.47984|-15.55296| 150.29661|176.95972| 58.18014| 25.96952| 45.25506| 10.42226|27.88782|-17.12676|-31.54772| -76.86293| 41.17343|-138.32535|-53.96905|-21.30266|-24.87362| -2.46595| -4.05003| -56.51161| -34.56445| -5.07092|-47.75605|64.81513|-97.42948|-12.59418|  55.23699| 28.85657| 54.53513|-31.97077| 20.03279| -8.07892|-55.12617| 26.58961|-10.27183|-30.64232| 9.92661| -55.95724| 64.92712|-17.72522| -1.49237| -7.50035|  51.76631| 7.88713| 55.66926|28.74903|\n",
      "+----+--------+--------+--------+--------+---------+---------+---------+---------+--------+--------+-------+--------+--------+----------+----------+---------+---------+---------+---------+---------+---------+---------+---------+---------+--------+----------+----------+---------+----------+---------+---------+---------+---------+---------+--------+--------+----------+----------+----------+---------+---------+---------+---------+---------+---------+---------+----------+---------+---------+---------+---------+---------+--------+---------+---------+----------+---------+----------+---------+---------+---------+---------+---------+----------+----------+---------+---------+--------+---------+---------+----------+---------+---------+---------+---------+---------+---------+---------+---------+---------+--------+----------+---------+---------+---------+---------+----------+--------+---------+--------+\n",
      "only showing top 5 rows\n",
      "\n"
     ]
    }
   ],
   "source": [
    "df_full =spark.read.csv(\"{}/data/YearPredictionMSD.txt\".format(pwd),header=False)\n",
    "df_full.show(5)"
   ]
  },
  {
   "cell_type": "code",
   "execution_count": 22,
   "metadata": {},
   "outputs": [
    {
     "name": "stdout",
     "output_type": "stream",
     "text": [
      "+----+--------+--------+--------+--------+---------+---------+---------+---------+--------+--------+-------+--------+--------+\n",
      "| _c0|     _c1|     _c2|     _c3|     _c4|      _c5|      _c6|      _c7|      _c8|     _c9|    _c10|   _c11|    _c12|    _c13|\n",
      "+----+--------+--------+--------+--------+---------+---------+---------+---------+--------+--------+-------+--------+--------+\n",
      "|2001|49.94357|21.47114|73.07750| 8.74861|-17.40628|-13.09905|-25.01202|-12.23257| 7.83089|-2.46783|3.32136|-2.31521|10.20556|\n",
      "|2001|48.73215|18.42930|70.32679|12.94636|-10.32437|-24.83777|  8.76630| -0.92019|18.76548| 4.59210|2.21920| 0.34006|44.38997|\n",
      "|2001|50.95714|31.85602|55.81851|13.41693| -6.57898|-18.54940| -3.27872| -2.35035|16.07017| 1.39518|2.73553| 0.82804| 7.46586|\n",
      "|2001|48.24750|-1.89837|36.29772| 2.58776|  0.97170|-26.21683|  5.05097|-10.34124| 3.55005|-6.36304|6.63016|-3.35142|37.64085|\n",
      "|2001|50.97020|42.20998|67.09964| 8.46791|-15.85279|-16.81409|-12.48207| -9.37636|12.63699| 0.93609|1.60923| 2.19223|47.32082|\n",
      "+----+--------+--------+--------+--------+---------+---------+---------+---------+--------+--------+-------+--------+--------+\n",
      "only showing top 5 rows\n",
      "\n"
     ]
    }
   ],
   "source": [
    "#获得10%的数据，并只取前13列\n",
    "# 这是我第一反应取得的\n",
    "df_full = df_full.select(df_full.columns[:14])\n",
    "df_full.show(5)"
   ]
  },
  {
   "cell_type": "code",
   "execution_count": 30,
   "metadata": {},
   "outputs": [
    {
     "name": "stdout",
     "output_type": "stream",
     "text": [
      "+----+--------+--------+--------+--------+---------+---------+---------+---------+--------+--------+-------+--------+\n",
      "| _c0|     _c1|     _c2|     _c3|     _c4|      _c5|      _c6|      _c7|      _c8|     _c9|    _c10|   _c11|    _c12|\n",
      "+----+--------+--------+--------+--------+---------+---------+---------+---------+--------+--------+-------+--------+\n",
      "|2001|49.94357|21.47114| 73.0775| 8.74861|-17.40628|-13.09905|-25.01202|-12.23257| 7.83089|-2.46783|3.32136|-2.31521|\n",
      "|2001|48.73215| 18.4293|70.32679|12.94636|-10.32437|-24.83777|   8.7663| -0.92019|18.76548|  4.5921| 2.2192| 0.34006|\n",
      "|2001|50.95714|31.85602|55.81851|13.41693| -6.57898| -18.5494| -3.27872| -2.35035|16.07017| 1.39518|2.73553| 0.82804|\n",
      "|2001| 48.2475|-1.89837|36.29772| 2.58776|   0.9717|-26.21683|  5.05097|-10.34124| 3.55005|-6.36304|6.63016|-3.35142|\n",
      "|2001| 50.9702|42.20998|67.09964| 8.46791|-15.85279|-16.81409|-12.48207| -9.37636|12.63699| 0.93609|1.60923| 2.19223|\n",
      "+----+--------+--------+--------+--------+---------+---------+---------+---------+--------+--------+-------+--------+\n",
      "only showing top 5 rows\n",
      "\n"
     ]
    },
    {
     "name": "stderr",
     "output_type": "stream",
     "text": [
      "                                                                                \r"
     ]
    },
    {
     "data": {
      "text/html": [
       "<div>\n",
       "<style scoped>\n",
       "    .dataframe tbody tr th:only-of-type {\n",
       "        vertical-align: middle;\n",
       "    }\n",
       "\n",
       "    .dataframe tbody tr th {\n",
       "        vertical-align: top;\n",
       "    }\n",
       "\n",
       "    .dataframe thead th {\n",
       "        text-align: right;\n",
       "    }\n",
       "</style>\n",
       "<table border=\"1\" class=\"dataframe\">\n",
       "  <thead>\n",
       "    <tr style=\"text-align: right;\">\n",
       "      <th></th>\n",
       "      <th>_c0</th>\n",
       "      <th>_c1</th>\n",
       "      <th>_c2</th>\n",
       "      <th>_c3</th>\n",
       "      <th>_c4</th>\n",
       "      <th>_c5</th>\n",
       "      <th>_c6</th>\n",
       "      <th>_c7</th>\n",
       "      <th>_c8</th>\n",
       "      <th>_c9</th>\n",
       "      <th>_c10</th>\n",
       "      <th>_c11</th>\n",
       "      <th>_c12</th>\n",
       "    </tr>\n",
       "  </thead>\n",
       "  <tbody>\n",
       "    <tr>\n",
       "      <th>0</th>\n",
       "      <td>1994</td>\n",
       "      <td>30.16898</td>\n",
       "      <td>11.09407</td>\n",
       "      <td>-43.28152</td>\n",
       "      <td>-5.33756</td>\n",
       "      <td>-18.16409</td>\n",
       "      <td>-11.91031</td>\n",
       "      <td>10.17781</td>\n",
       "      <td>-10.63273</td>\n",
       "      <td>29.40632</td>\n",
       "      <td>9.45716</td>\n",
       "      <td>-3.83821</td>\n",
       "      <td>6.23310</td>\n",
       "    </tr>\n",
       "    <tr>\n",
       "      <th>1</th>\n",
       "      <td>2008</td>\n",
       "      <td>34.74711</td>\n",
       "      <td>-71.79470</td>\n",
       "      <td>14.96358</td>\n",
       "      <td>-21.79531</td>\n",
       "      <td>-23.05203</td>\n",
       "      <td>-30.13815</td>\n",
       "      <td>-2.81365</td>\n",
       "      <td>1.39191</td>\n",
       "      <td>15.86665</td>\n",
       "      <td>5.78299</td>\n",
       "      <td>-0.07879</td>\n",
       "      <td>0.59716</td>\n",
       "    </tr>\n",
       "    <tr>\n",
       "      <th>2</th>\n",
       "      <td>1997</td>\n",
       "      <td>30.20292</td>\n",
       "      <td>-163.91898</td>\n",
       "      <td>28.74562</td>\n",
       "      <td>-21.31066</td>\n",
       "      <td>18.44927</td>\n",
       "      <td>-19.16093</td>\n",
       "      <td>-11.19296</td>\n",
       "      <td>3.80094</td>\n",
       "      <td>-23.12284</td>\n",
       "      <td>-8.21416</td>\n",
       "      <td>-0.86751</td>\n",
       "      <td>-0.15789</td>\n",
       "    </tr>\n",
       "    <tr>\n",
       "      <th>3</th>\n",
       "      <td>2008</td>\n",
       "      <td>44.85505</td>\n",
       "      <td>-18.75080</td>\n",
       "      <td>-16.49408</td>\n",
       "      <td>-17.80846</td>\n",
       "      <td>4.73053</td>\n",
       "      <td>-5.21701</td>\n",
       "      <td>-10.13801</td>\n",
       "      <td>-17.42086</td>\n",
       "      <td>10.27341</td>\n",
       "      <td>-1.76861</td>\n",
       "      <td>-0.06202</td>\n",
       "      <td>13.85828</td>\n",
       "    </tr>\n",
       "    <tr>\n",
       "      <th>4</th>\n",
       "      <td>1998</td>\n",
       "      <td>39.84637</td>\n",
       "      <td>-58.22576</td>\n",
       "      <td>48.75672</td>\n",
       "      <td>1.68587</td>\n",
       "      <td>3.44955</td>\n",
       "      <td>19.54420</td>\n",
       "      <td>-30.79726</td>\n",
       "      <td>6.33024</td>\n",
       "      <td>-6.77604</td>\n",
       "      <td>-1.58842</td>\n",
       "      <td>0.09150</td>\n",
       "      <td>14.04782</td>\n",
       "    </tr>\n",
       "  </tbody>\n",
       "</table>\n",
       "</div>"
      ],
      "text/plain": [
       "    _c0       _c1        _c2       _c3       _c4       _c5       _c6  \\\n",
       "0  1994  30.16898   11.09407 -43.28152  -5.33756 -18.16409 -11.91031   \n",
       "1  2008  34.74711  -71.79470  14.96358 -21.79531 -23.05203 -30.13815   \n",
       "2  1997  30.20292 -163.91898  28.74562 -21.31066  18.44927 -19.16093   \n",
       "3  2008  44.85505  -18.75080 -16.49408 -17.80846   4.73053  -5.21701   \n",
       "4  1998  39.84637  -58.22576  48.75672   1.68587   3.44955  19.54420   \n",
       "\n",
       "        _c7       _c8       _c9     _c10     _c11      _c12  \n",
       "0  10.17781 -10.63273  29.40632  9.45716 -3.83821   6.23310  \n",
       "1  -2.81365   1.39191  15.86665  5.78299 -0.07879   0.59716  \n",
       "2 -11.19296   3.80094 -23.12284 -8.21416 -0.86751  -0.15789  \n",
       "3 -10.13801 -17.42086  10.27341 -1.76861 -0.06202  13.85828  \n",
       "4 -30.79726   6.33024  -6.77604 -1.58842  0.09150  14.04782  "
      ]
     },
     "execution_count": 30,
     "metadata": {},
     "output_type": "execute_result"
    }
   ],
   "source": [
    "# 可以不用col实现\n",
    "from pyspark.sql.functions import col\n",
    "exprs = [col(c).cast(\"double\") for c in df_full.columns[1:13]]\n",
    "exprs\n",
    "df = df_full.select(df_full._c0.cast(\"int\"),*exprs)\n",
    "df.show(5)\n",
    "\n",
    "df = df.sample(False,0.1,seed =111)\n",
    "\n",
    "df.sample(False,0.001,seed =222).toPandas().head(5)"
   ]
  },
  {
   "cell_type": "code",
   "execution_count": 38,
   "metadata": {},
   "outputs": [
    {
     "name": "stdout",
     "output_type": "stream",
     "text": [
      "+-----+--------------------+\n",
      "|label|            features|\n",
      "+-----+--------------------+\n",
      "| 2001|[49.94357,21.4711...|\n",
      "| 2002|[37.66498,-34.059...|\n",
      "| 2004|[26.51957,-148.15...|\n",
      "| 1999|[39.11695,-8.2976...|\n",
      "| 1997|[37.45034,11.4261...|\n",
      "+-----+--------------------+\n",
      "only showing top 5 rows\n",
      "\n"
     ]
    },
    {
     "name": "stderr",
     "output_type": "stream",
     "text": [
      "                                                                                \r"
     ]
    },
    {
     "data": {
      "text/html": [
       "<div>\n",
       "<style scoped>\n",
       "    .dataframe tbody tr th:only-of-type {\n",
       "        vertical-align: middle;\n",
       "    }\n",
       "\n",
       "    .dataframe tbody tr th {\n",
       "        vertical-align: top;\n",
       "    }\n",
       "\n",
       "    .dataframe thead th {\n",
       "        text-align: right;\n",
       "    }\n",
       "</style>\n",
       "<table border=\"1\" class=\"dataframe\">\n",
       "  <thead>\n",
       "    <tr style=\"text-align: right;\">\n",
       "      <th></th>\n",
       "      <th>label</th>\n",
       "      <th>features</th>\n",
       "    </tr>\n",
       "  </thead>\n",
       "  <tbody>\n",
       "    <tr>\n",
       "      <th>0</th>\n",
       "      <td>2005</td>\n",
       "      <td>[41.61498, -62.4382, -5.51067, -23.1615, -5.55...</td>\n",
       "    </tr>\n",
       "    <tr>\n",
       "      <th>1</th>\n",
       "      <td>1962</td>\n",
       "      <td>[40.66192, 3.59829, 28.08621, 42.16801, -9.905...</td>\n",
       "    </tr>\n",
       "    <tr>\n",
       "      <th>2</th>\n",
       "      <td>1998</td>\n",
       "      <td>[51.44046, 67.68488, 29.81125, 2.53634, -22.47...</td>\n",
       "    </tr>\n",
       "    <tr>\n",
       "      <th>3</th>\n",
       "      <td>1995</td>\n",
       "      <td>[44.85855, -7.55444, 41.4515, -5.15161, -22.16...</td>\n",
       "    </tr>\n",
       "    <tr>\n",
       "      <th>4</th>\n",
       "      <td>2009</td>\n",
       "      <td>[45.77231, 3.13134, -25.74867, -1.85734, -9.82...</td>\n",
       "    </tr>\n",
       "  </tbody>\n",
       "</table>\n",
       "</div>"
      ],
      "text/plain": [
       "   label                                           features\n",
       "0   2005  [41.61498, -62.4382, -5.51067, -23.1615, -5.55...\n",
       "1   1962  [40.66192, 3.59829, 28.08621, 42.16801, -9.905...\n",
       "2   1998  [51.44046, 67.68488, 29.81125, 2.53634, -22.47...\n",
       "3   1995  [44.85855, -7.55444, 41.4515, -5.15161, -22.16...\n",
       "4   2009  [45.77231, 3.13134, -25.74867, -1.85734, -9.82..."
      ]
     },
     "execution_count": 38,
     "metadata": {},
     "output_type": "execute_result"
    }
   ],
   "source": [
    "# (b) Convertir cette base de données au format svmlib dans une variable df_ml.\n",
    "# help(spark.createDataFrame)\n",
    "from pyspark.ml.linalg import DenseVector\n",
    "\n",
    "df_ml = df.rdd.map(lambda x: (x[0],DenseVector(x[1:13])))\n",
    "df_ml = spark.createDataFrame(df_ml,[\"label\",\"features\"])\n",
    "\n",
    "df_ml.show(5)\n",
    "# (c) Afficher un extrait de cette base de données.\n",
    "df_ml.sample(False,0.001,seed=666).toPandas().head(5)\n",
    "\n",
    "\n"
   ]
  },
  {
   "cell_type": "code",
   "execution_count": 39,
   "metadata": {},
   "outputs": [],
   "source": [
    "# (d) Séparer df_ml en un ensemble train et un ensemble test comprenant respectivement 80% et 20% des données.\n",
    "(train,test)=df_ml.randomSplit([0.8,0.2],seed=666)\n"
   ]
  },
  {
   "cell_type": "code",
   "execution_count": 41,
   "metadata": {},
   "outputs": [],
   "source": [
    "from pyspark.ml.regression import LinearRegression\n",
    "\n",
    "lr = LinearRegression(labelCol=\"label\",featuresCol=\"features\")"
   ]
  },
  {
   "cell_type": "code",
   "execution_count": 43,
   "metadata": {},
   "outputs": [],
   "source": [
    "# 2. Création d'une grille de paramètres\n",
    "# (a) Créer une grille de paramètres, appelée param_grid, \n",
    "# contenant les valeurs 0, 0.5 et 1 pour les paramètres regParam et elasticNetParam.\n",
    "from pyspark.ml.tuning import ParamGridBuilder\n",
    "\n",
    "param_grid = ParamGridBuilder().\\\n",
    "            addGrid(lr.regParam,[0,0.5,1]).\\\n",
    "            addGrid(lr.elasticNetParam,[0,0.5,1]).\\\n",
    "            build()\n",
    "\n",
    "\n"
   ]
  },
  {
   "cell_type": "code",
   "execution_count": 50,
   "metadata": {},
   "outputs": [],
   "source": [
    "# (a) Importer la fonction RegressionEvaluator du package pyspark.ml.evaluation.\n",
    "# (b) Créer un évaluateur evaluator prenant en compte la métrique d'évaluation R² r2.\n",
    " \n",
    "from pyspark.ml.evaluation import RegressionEvaluator\n",
    "ev = RegressionEvaluator(predictionCol=\"prediction\",\n",
    "                         labelCol=\"label\",\n",
    "                         metricName=\"r2\"\n",
    "                         )\n",
    "\n"
   ]
  },
  {
   "cell_type": "code",
   "execution_count": 54,
   "metadata": {},
   "outputs": [],
   "source": [
    "# (a) Importer la fonction CrossValidator du package pyspark.ml.tuning.\n",
    "# (b) Créer un objet CrossValidator à 3 folds nommé cv prenant comme argument l'estimateur lr, \n",
    "# la grille de paramètres et l'évaluateur déjà construits.\n",
    "\n",
    "\n",
    "from pyspark.ml.tuning import CrossValidator\n",
    "\n",
    "cv = CrossValidator(estimator=lr,\n",
    "                    estimatorParamMaps=param_grid,\n",
    "                    evaluator=ev,\n",
    "                    numFolds=3\n",
    ")"
   ]
  },
  {
   "cell_type": "code",
   "execution_count": 55,
   "metadata": {},
   "outputs": [
    {
     "name": "stderr",
     "output_type": "stream",
     "text": [
      "24/01/08 02:13:45 WARN Instrumentation: [2dd0df38] regParam is zero, which might cause numerical instability and overfitting.\n",
      "24/01/08 02:13:46 WARN InstanceBuilder: Failed to load implementation from:dev.ludovic.netlib.blas.JNIBLAS\n",
      "24/01/08 02:13:47 WARN InstanceBuilder: Failed to load implementation from:dev.ludovic.netlib.lapack.JNILAPACK\n",
      "24/01/08 02:13:51 WARN Instrumentation: [cb426fc9] regParam is zero, which might cause numerical instability and overfitting.\n",
      "24/01/08 02:13:52 WARN Instrumentation: [0a23e215] regParam is zero, which might cause numerical instability and overfitting.\n",
      "24/01/08 02:14:02 WARN Instrumentation: [5cf2e2f5] regParam is zero, which might cause numerical instability and overfitting.\n",
      "24/01/08 02:14:05 WARN Instrumentation: [7216cc7e] regParam is zero, which might cause numerical instability and overfitting.\n",
      "24/01/08 02:14:06 WARN Instrumentation: [175010b3] regParam is zero, which might cause numerical instability and overfitting.\n",
      "24/01/08 02:14:12 WARN Instrumentation: [0963b411] regParam is zero, which might cause numerical instability and overfitting.\n",
      "24/01/08 02:14:16 WARN Instrumentation: [c834d06a] regParam is zero, which might cause numerical instability and overfitting.\n",
      "24/01/08 02:14:16 WARN Instrumentation: [3a8f66fd] regParam is zero, which might cause numerical instability and overfitting.\n",
      "24/01/08 02:14:21 WARN Instrumentation: [8184bb60] regParam is zero, which might cause numerical instability and overfitting.\n",
      "[Stage 153:>                                                        (0 + 4) / 4]\r"
     ]
    },
    {
     "name": "stdout",
     "output_type": "stream",
     "text": [
      "execute time use 46.304951906204224\n"
     ]
    },
    {
     "name": "stderr",
     "output_type": "stream",
     "text": [
      "                                                                                \r"
     ]
    }
   ],
   "source": [
    "# (a) Dans une variable cv_model, appliquer le crossValidator à la base de données train,\n",
    "#  à l'aide de la méthode fit.\n",
    "from time import time \n",
    "t0 = time()\n",
    "cv_model =cv.fit(train)\n",
    "t_delta = time()-t0\n",
    "print(f\"execute time use {t_delta}\")"
   ]
  },
  {
   "cell_type": "code",
   "execution_count": 58,
   "metadata": {},
   "outputs": [],
   "source": [
    "# (c) Utiliser ce modèle pred_train = cv_model.transform(train)\n",
    "pred_test = cv_model.transform(test)pour prédire l'année de sortie des chansons de l'échantillon train dans un DataFrame pred_train.\n",
    "# (d) Utiliser ce modèle pour prédire l'année de sortie des chansons de l'échantillon test dans un DataFrame pred_test.\n",
    "\n"
   ]
  },
  {
   "cell_type": "code",
   "execution_count": 61,
   "metadata": {},
   "outputs": [
    {
     "name": "stderr",
     "output_type": "stream",
     "text": [
      "[Stage 157:==========================================>              (3 + 1) / 4]\r"
     ]
    },
    {
     "name": "stdout",
     "output_type": "stream",
     "text": [
      "rmse train is 10.03126479176896, rmse test is 10.019568855619077\n"
     ]
    },
    {
     "name": "stderr",
     "output_type": "stream",
     "text": [
      "                                                                                \r"
     ]
    }
   ],
   "source": [
    "# (e) Calculer le RMSE obtenu sur l'échantillon test.\n",
    "\n",
    "rmse_train = ev.setMetricName(\"rmse\").evaluate(pred_train)\n",
    "rmse_test = ev.setMetricName(\"rmse\").evaluate(pred_test)\n",
    "\n",
    "print(f'rmse train is {rmse_train}, rmse test is {rmse_test}')"
   ]
  },
  {
   "cell_type": "code",
   "execution_count": 63,
   "metadata": {},
   "outputs": [
    {
     "data": {
      "text/plain": [
       "DenseVector([0.7434, -0.0552, -0.0701, 0.1436, 0.0147, -0.2166, -0.0557, -0.0618, -0.1174, 0.0842, -0.4503, 0.0428])"
      ]
     },
     "execution_count": 63,
     "metadata": {},
     "output_type": "execute_result"
    }
   ],
   "source": [
    "# (a) Afficher les coefficients obtenus par le modèle optimal.\n",
    "cv_model.bestModel.coefficients\n"
   ]
  },
  {
   "cell_type": "code",
   "execution_count": null,
   "metadata": {},
   "outputs": [],
   "source": []
  }
 ],
 "metadata": {
  "kernelspec": {
   "display_name": "Python 3",
   "language": "python",
   "name": "python3"
  },
  "language_info": {
   "codemirror_mode": {
    "name": "ipython",
    "version": 3
   },
   "file_extension": ".py",
   "mimetype": "text/x-python",
   "name": "python",
   "nbconvert_exporter": "python",
   "pygments_lexer": "ipython3",
   "version": "3.10.12"
  }
 },
 "nbformat": 4,
 "nbformat_minor": 2
}
