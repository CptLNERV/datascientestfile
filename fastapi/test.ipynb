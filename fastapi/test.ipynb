{
 "cells": [
  {
   "cell_type": "code",
   "execution_count": 52,
   "metadata": {},
   "outputs": [],
   "source": [
    "import pandas as pd\n",
    "import os\n",
    "from fastapi import FastAPI\n",
    "import random\n",
    "from fastapi.testclient import TestClient\n",
    "from pydantic import BaseModel\n",
    "import json"
   ]
  },
  {
   "cell_type": "code",
   "execution_count": 53,
   "metadata": {},
   "outputs": [
    {
     "data": {
      "text/plain": [
       "76"
      ]
     },
     "execution_count": 53,
     "metadata": {},
     "output_type": "execute_result"
    }
   ],
   "source": [
    "import pandas as pd\n",
    "df_question = pd.read_csv(\"questions.csv\")\n",
    "len(df_question)"
   ]
  },
  {
   "cell_type": "code",
   "execution_count": 54,
   "metadata": {},
   "outputs": [
    {
     "data": {
      "text/plain": [
       "76"
      ]
     },
     "execution_count": 54,
     "metadata": {},
     "output_type": "execute_result"
    }
   ],
   "source": [
    "df_question = pd.read_csv(f\"questions.csv\")\n",
    "df_question.replace(float(\"NaN\"),\"NaN\",inplace=True)\n",
    "len(df_question)"
   ]
  },
  {
   "cell_type": "code",
   "execution_count": 55,
   "metadata": {},
   "outputs": [],
   "source": [
    "# test fliter\n",
    "# df_question[\"use\"].unique()\n",
    "# df_question"
   ]
  },
  {
   "cell_type": "code",
   "execution_count": 56,
   "metadata": {},
   "outputs": [
    {
     "data": {
      "text/plain": [
       "array(['BDD', 'Systèmes distribués', 'Streaming de données', 'Docker',\n",
       "       'Classification', 'Sytèmes distribués', 'Data Science',\n",
       "       'Machine Learning', 'Automation'], dtype=object)"
      ]
     },
     "execution_count": 56,
     "metadata": {},
     "output_type": "execute_result"
    }
   ],
   "source": [
    "df_question[\"subject\"].unique()"
   ]
  },
  {
   "cell_type": "code",
   "execution_count": 57,
   "metadata": {},
   "outputs": [],
   "source": [
    "description = \"\"\"use must be one of ['Test de positionnement', 'Test de validation', 'Total Bootcamp'] \\n  subjet must be a list which contiain ['BDD', 'Systèmes distribués', 'Streaming de données', 'Docker',\n",
    "       'Classification', 'Sytèmes distribués', 'Data Science','Machine Learning', 'Automation']\"\"\""
   ]
  },
  {
   "cell_type": "code",
   "execution_count": 58,
   "metadata": {},
   "outputs": [],
   "source": [
    "# use = 'Test de positionnement'\n",
    "# df_question = df_question[df_question[\"use\"]==use]\n",
    "# df_question\n",
    "# len(df_question)"
   ]
  },
  {
   "cell_type": "code",
   "execution_count": null,
   "metadata": {},
   "outputs": [],
   "source": []
  },
  {
   "cell_type": "code",
   "execution_count": 59,
   "metadata": {},
   "outputs": [],
   "source": [
    "# subject = ['BDD', 'Systèmes distribués']\n",
    "# df_question = df_question[df_question[\"subject\"].isin(subject)]\n",
    "# df_question"
   ]
  },
  {
   "cell_type": "code",
   "execution_count": 81,
   "metadata": {},
   "outputs": [
    {
     "name": "stdout",
     "output_type": "stream",
     "text": [
      "df_question 76\n",
      "df_question_2 21 Test de positionnement\n",
      "df_question_3 11 ['BDD', 'Docker']\n",
      "11 2\n",
      "[{'question': 'Cassandra et HBase sont des bases de données', 'subject': 'BDD', 'use': 'Test de positionnement', 'correct': 'C', 'responseA': 'relationnelles', 'responseB': 'orientées objet', 'responseC': 'orientées colonne', 'responseD': 'orientées graphe', 'remark': 'NaN'}, {'question': 'Docker permet de persister des changements', 'subject': 'Docker', 'use': 'Test de positionnement', 'correct': 'C', 'responseA': 'Oui', 'responseB': 'Non', 'responseC': \"Oui à condition d'utiliser des volumes\", 'responseD': 'NaN', 'remark': 'NaN'}]\n"
     ]
    }
   ],
   "source": [
    "class argument(BaseModel):\n",
    "        use:str\n",
    "        subject:list[str]\n",
    "        number:int\n",
    "data = {\n",
    "    \"use\": \"Test de positionnement\",\n",
    "    \"subject\": [\"BDD\", \"Docker\"],\n",
    "    \"number\": 2\n",
    "}\n",
    "def generationqcm(arg:argument):\n",
    "    print(\"df_question\",len(df_question))\n",
    "    df_question_2 = df_question[df_question[\"use\"]==arg.use]\n",
    "    print(\"df_question_2\",len(df_question_2),arg.use)\n",
    "    df_question_3 = df_question_2[df_question_2[\"subject\"].isin(arg.subject)]\n",
    "    print(\"df_question_3\",len(df_question_3),arg.subject)\n",
    "    print(len(df_question_3),arg.number)\n",
    "    \n",
    "    try:\n",
    "        if len(df_question_3)<arg.number:\n",
    "             raise ValueError(\"Doesn't match database, please do data check before sending\")\n",
    "\n",
    "        random_rows = random.sample(range(len(df_question_3)),arg.number)\n",
    "        quesiton_list= []\n",
    "        for i in random_rows:\n",
    "            quesiton_list.append(df_question_3.iloc[i].to_dict())\n",
    "        return quesiton_list\n",
    "        print(\"ok\")\n",
    "\n",
    "    except Exception as e:\n",
    "        print(f'find error: {e}')\n",
    "print(generationqcm(argument(**data)))"
   ]
  },
  {
   "cell_type": "markdown",
   "metadata": {},
   "source": [
    "1. reception de données csv post(\"/question\")\n",
    "    i. Sélectionner une utilisation et plusieurs sujets Sélectionner 5 10 ou 20\n",
    "    ii. Les mêmes paramètres peuvent générer de manière aléatoire des problèmes différents à chaque fois \n",
    "    Before sending out the data, ask the front-end to validate the data dependency.\\\n",
    "    **Example Value**\n",
    "    '''json\n",
    "    {\\\n",
    "      \"use\": \"string\",\\\n",
    "      \"subject\": [\\\n",
    "        \"string\"\\\n",
    "      ],\\\n",
    "      \"number\": 0\\\n",
    "    }\\\n",
    "    '''\n",
    "\n",
    "Test curl:\n",
    "curl -X 'POST' -i 'http://127.0.0.1:8000/question' -H 'Content-Type: application/json'   -d '{ \"use\":\"Test de positionnement\",\"subject\":[\"BDD\", \"Docker\"],\"number\": 2}'\n",
    "\n",
    "Le front end doit valider les données envoyées, par exemple. Ici il s'agit de \"test de validation\". Il ne peut donc pas choisir \"BDD ou docker\" dans le sujet.\n",
    "Sinon, il retournera une table vide et provoquera une erreur. Je fais raise comme une erreur dans le programme\n",
    "\n",
    "2. user verification post(\"/login\")\n",
    "    i. Vérification de l'utilisateur et du mot de passe\n",
    "\n",
    "test url:\n",
    " curl -X 'POST' -i 'http://127.0.0.1:8000/login' -H 'Content-Type: application/json'   -d '{\"username\":\"alice\",\"password\":\"wonderland\"}'\n",
    "\n",
    "3. admin (\"/add_question\")\n",
    "    i. Vérifier la connexion de l'administrateur avec le mot de passe de l'administrateur\n",
    "    ii. l'administrateur peut ajouter une question et les réponses\n",
    "    \n",
    "Test url\n",
    "curl -X 'POST' -i 'http://127.0.0.1:8000/add_question' -H 'Content-Type: application/json'   -d '{\"user\":{\"username\":\"Admin\",\"password\":\"4dm1N\"},\"question\":{\"question\":\"add_question\",\"subject\":\"add_subject\",\"use\":\"add_use\",\"correct\":\"add_correct\",\"responseA\":\"add_responseA\",\"responseB\":\"add_responseB\",\"responseC\":\"add_responseC\",\"responseD\":\"add_responseD\",\"remark\":\"add_remark\"} }'"
   ]
  }
 ],
 "metadata": {
  "kernelspec": {
   "display_name": "Python 3",
   "language": "python",
   "name": "python3"
  },
  "language_info": {
   "codemirror_mode": {
    "name": "ipython",
    "version": 3
   },
   "file_extension": ".py",
   "mimetype": "text/x-python",
   "name": "python",
   "nbconvert_exporter": "python",
   "pygments_lexer": "ipython3",
   "version": "3.10.12"
  }
 },
 "nbformat": 4,
 "nbformat_minor": 2
}
